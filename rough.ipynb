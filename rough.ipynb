{
 "cells": [
  {
   "cell_type": "markdown",
   "metadata": {},
   "source": [
    "# Dataset exploration: MD17 revised_aspirin and aspirin_CCSD"
   ]
  },
  {
   "cell_type": "code",
   "execution_count": 59,
   "metadata": {},
   "outputs": [],
   "source": [
    "from torchmdnet.datasets import MD17\n",
    "\n",
    "import torch\n",
    "from torch.utils.data import random_split"
   ]
  },
  {
   "cell_type": "code",
   "execution_count": 54,
   "metadata": {},
   "outputs": [],
   "source": [
    "root = \"datasets/md17\"\n",
    "rev_aspirin_dataset = MD17(root, \"revised_aspirin\")\n",
    "ccsd_aspirin_train = MD17(root, \"aspirin_CCSD\", train = True)\n",
    "ccsd_aspirin_test = MD17(root, \"aspirin_CCSD\", train = False)"
   ]
  },
  {
   "cell_type": "code",
   "execution_count": 45,
   "metadata": {},
   "outputs": [
    {
     "name": "stdout",
     "output_type": "stream",
     "text": [
      "Data(y=[1], pos=[21, 3], z=[21], neg_dy=[21, 3])\n",
      "Data(y=[1, 1], pos=[21, 3], z=[21], neg_dy=[21, 3])\n",
      "Data(y=[1, 1], pos=[21, 3], z=[21], neg_dy=[21, 3])\n"
     ]
    }
   ],
   "source": [
    "print(rev_aspirin_dataset[0])\n",
    "print(ccsd_aspirin_train[0])\n",
    "print(ccsd_aspirin_test[0])\n",
    "\n",
    "# https://pytorch-geometric.readthedocs.io/en/latest/generated/torch_geometric.datasets.MD17.html\n",
    "# 21 molecules, 3 dimensions\n",
    "# y = total energy (kcal/mol)\n",
    "# pos = Cartesian position (Angstroms)\n",
    "# z = atomic number\n",
    "# neg_dy = forces on each atom (kcal/mol/Angstrom)"
   ]
  },
  {
   "cell_type": "code",
   "execution_count": 46,
   "metadata": {},
   "outputs": [
    {
     "name": "stdout",
     "output_type": "stream",
     "text": [
      "100000\n",
      "1000\n",
      "500\n"
     ]
    }
   ],
   "source": [
    "print(len(rev_aspirin_dataset))\n",
    "print(len(ccsd_aspirin_train))\n",
    "print(len(ccsd_aspirin_test))\n",
    "\n",
    "# number of data points"
   ]
  },
  {
   "cell_type": "code",
   "execution_count": 61,
   "metadata": {},
   "outputs": [
    {
     "name": "stdout",
     "output_type": "stream",
     "text": [
      "1000\n",
      "1000\n",
      "98000\n"
     ]
    }
   ],
   "source": [
    "generator = torch.Generator().manual_seed(0)\n",
    "rev_aspirin_train, rev_aspirin_val, rev_aspirin_test = random_split(\n",
    "                                                            rev_aspirin_dataset, \n",
    "                                                            (0.01, 0.01, 0.98), \n",
    "                                                            generator=generator\n",
    "                                                            )\n",
    "\n",
    "print(len(rev_aspirin_train))\n",
    "print(len(rev_aspirin_val))\n",
    "print(len(rev_aspirin_test))\n",
    "\n",
    "# https://pytorch-geometric.readthedocs.io/en/latest/generated/torch_geometric.datasets.MD17.html:\n",
    "# \"It is advised to not train a model on more than 1,000 samples from the original or revised MD17 dataset.\"\n",
    "# as such, only using 1000 samples to train"
   ]
  },
  {
   "cell_type": "code",
   "execution_count": null,
   "metadata": {},
   "outputs": [],
   "source": []
  },
  {
   "cell_type": "markdown",
   "metadata": {},
   "source": [
    "# Getting a Model Training: TorchMD_GN"
   ]
  },
  {
   "cell_type": "code",
   "execution_count": 62,
   "metadata": {},
   "outputs": [],
   "source": [
    "from torchmdnet.models.model import create_model\n",
    "from torchmdnet.models.torchmd_gn import TorchMD_GN\n",
    "from torchmdnet.optimize import TorchMD_GN_optimized\n",
    "\n",
    "from torch.utils.data import DataLoader\n",
    "import numpy as np\n",
    "import matplotlib\n",
    "from matplotlib import pyplot as plt\n",
    "import tqdm\n",
    "import tqdm.notebook\n",
    "import time\n"
   ]
  },
  {
   "cell_type": "code",
   "execution_count": 53,
   "metadata": {},
   "outputs": [],
   "source": [
    "# trying to manually run a training loop as opposed to using torchmd-train\n",
    "\n",
    "gpu_num = 0\n",
    "device = torch.device(f\"cude:{gpu_num}\")\n",
    "\n",
    "epochs = 10\n",
    "batch_size = 16\n",
    "learning_rate = 0.0001\n",
    "\n",
    "model = create_model({\n",
    "    'embedding_dimension': 128,\n",
    "    'num_layers': 6,\n",
    "    'num_rbf': 50,\n",
    "    'rbf_type': 'expnorm',\n",
    "    'trainable_rbf': True,\n",
    "    'activation': 'silu',\n",
    "    'neighbor_embedding': True,\n",
    "    'cutoff_lower': 0.0,\n",
    "    'cutoff_upper': 5.0,\n",
    "    'max_z': 100,\n",
    "    'max_num_neighbors': 32,\n",
    "    'model': 'graph-network',\n",
    "    'aggr': 'add',\n",
    "    'derivative': False,\n",
    "    'atom_filter': -1,\n",
    "    'prior_model': None,\n",
    "    'output_model': 'Scalar',\n",
    "    'reduce_op': 'add'\n",
    "})\n",
    "\n",
    "optimizer = torch.optim.Adam(model.parameters(), lr=learning_rate)\n",
    "# scheduler =\n",
    "criterion = torch.nn.L1Loss()\n",
    "\n",
    "trainloader = DataLoader(rev_aspirin_train, \n",
    "                         batch_size=batch_size,\n",
    "                         shuffle=True)\n",
    "valloader = DataLoader(rev_aspirin_val, \n",
    "                         batch_size=batch_size,\n",
    "                         shuffle=True)\n",
    "\n",
    "\n",
    "training_loss_per_epoch = []\n",
    "val_loss_per_epoch = []\n",
    "\n",
    "model.train()\n",
    "for epoch in range(epochs):\n",
    "    training_losses = []\n",
    "    for y, pos, z, neg_dy in tqdm.notebook.tqdm(trainloader, unit=\"batch\"):\n",
    "        y = y.to(device)\n",
    "        pos = pos.to(device)\n",
    "        z = z.to(device)\n",
    "        neg_dy = neg_dy.to(device)\n",
    "\n",
    "        optimizer.zero_grad()\n",
    "        pred = model(z, pos #TODO batch)"
   ]
  },
  {
   "cell_type": "code",
   "execution_count": null,
   "metadata": {},
   "outputs": [],
   "source": []
  }
 ],
 "metadata": {
  "kernelspec": {
   "display_name": "molecular_dynamics",
   "language": "python",
   "name": "python3"
  },
  "language_info": {
   "codemirror_mode": {
    "name": "ipython",
    "version": 3
   },
   "file_extension": ".py",
   "mimetype": "text/x-python",
   "name": "python",
   "nbconvert_exporter": "python",
   "pygments_lexer": "ipython3",
   "version": "3.12.4"
  }
 },
 "nbformat": 4,
 "nbformat_minor": 2
}
